{
 "cells": [
  {
   "cell_type": "markdown",
   "metadata": {},
   "source": [
    "#### Задача 1\n",
    "С помощью средств языка Python сгенерируйте граф в модели Бакли-Остгуса $H_{a,m}^n$ на $n=5000$ вершинах при $m=2$ и $a=0.27$. В полученном графе посчитайте ассортативность и постройте график величины $d_{nn}$"
   ]
  },
  {
   "cell_type": "code",
   "execution_count": 2,
   "metadata": {
    "collapsed": true
   },
   "outputs": [],
   "source": [
    "import networkx as nx\n",
    "import matplotlib.pyplot as plt\n",
    "import pylab\n",
    "import numpy as np\n",
    "%matplotlib inline\n",
    "\n",
    "\n",
    "def generateSimpleBuckleyOsthusGraph(a, n):\n",
    "    G = nx.MultiDiGraph()\n",
    "    G.add_node(0)\n",
    "    G.add_edge(0, 0)\n",
    "    while G.number_of_nodes() < n:\n",
    "        new_node = G.number_of_nodes()\n",
    "        G.add_node(new_node)\n",
    "        probabilities = [(a - 1 + nx.degree(G, i)) / ((a + 1.0) * new_node + a ) for i in xrange(new_node)]\n",
    "        probabilities += [float(a) / ((a + 1.0) * new_node + a)]\n",
    "        destination = np.random.choice(G.nodes(), 1, p=probabilities)[0]\n",
    "        G.add_edge(new_node, destination)\n",
    "    return G\n",
    "\n",
    "def generateBuckleyOsthusGraph(a, n, m):\n",
    "    G1mn = generateSimpleBuckleyOsthusGraph(a, m * n)\n",
    "    G = nx.MultiDiGraph()\n",
    "    for u, v in G1mn.edges():\n",
    "        u_new, v_new = u / m, v / m\n",
    "        G.add_edge(u_new, v_new)\n",
    "    return G\n"
   ]
  },
  {
   "cell_type": "code",
   "execution_count": 3,
   "metadata": {
    "collapsed": false
   },
   "outputs": [],
   "source": [
    "H = generateBuckleyOsthusGraph(0.27, 5000, 2)"
   ]
  },
  {
   "cell_type": "markdown",
   "metadata": {},
   "source": [
    "Величина $X(d_1,d_2)$ определяется как общее число ребер между вершинами суммарных степеней $d_1$ и $d_2$ в $G$.\n",
    "\n",
    "Ассортативность:\n",
    "$$\n",
    "d_{nn}(d)=\\frac{\\sum\\limits_{d_1}d_1X(d_1,d)}{\\sum\\limits_{d_1}X(d_1,d)}.\n",
    "$$"
   ]
  },
  {
   "cell_type": "code",
   "execution_count": 4,
   "metadata": {
    "collapsed": false
   },
   "outputs": [
    {
     "data": {
      "image/png": "[encoded data removed]",
      "text/plain": [
       "<matplotlib.figure.Figure at 0x39269b0>"
      ]
     },
     "metadata": {},
     "output_type": "display_data"
    }
   ],
   "source": [
    "from collections import defaultdict\n",
    "def get_X(G):\n",
    "    result = defaultdict(int)\n",
    "    for u, v in G.edges():\n",
    "        result[(G.degree(u), G.degree(v))] += 1\n",
    "        result[(G.degree(v), G.degree(u))] += 1\n",
    "    return result\n",
    "            \n",
    "degrees = set(H.degree().values())\n",
    "X = get_X(H)\n",
    "degs = []\n",
    "assorts = []\n",
    "for d in sorted(degrees):\n",
    "    dnn = float(sum(d1 * X[(d1, d)] for d1 in degrees)) / sum(X[(d1, d)] for d1 in degrees)\n",
    "    degs.append(d)\n",
    "    assorts.append(dnn)\n",
    "plt.loglog(degs, assorts, ls='None', marker='o')\n",
    "plt.show()\n"
   ]
  }
 ],
 "metadata": {
  "kernelspec": {
   "display_name": "Python 2",
   "language": "python",
   "name": "python2"
  },
  "language_info": {
   "codemirror_mode": {
    "name": "ipython",
    "version": 2
   },
   "file_extension": ".py",
   "mimetype": "text/x-python",
   "name": "python",
   "nbconvert_exporter": "python",
   "pygments_lexer": "ipython2",
   "version": "2.7.11"
  }
 },
 "nbformat": 4,
 "nbformat_minor": 0
}
