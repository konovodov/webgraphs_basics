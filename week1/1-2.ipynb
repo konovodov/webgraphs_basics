{
 "cells": [
  {
   "cell_type": "code",
   "execution_count": 37,
   "metadata": {
    "collapsed": false
   },
   "outputs": [],
   "source": [
    "import networkx as nx\n",
    "import matplotlib\n",
    "matplotlib.rcParams['xtick.labelsize'] = 18\n",
    "matplotlib.rcParams['ytick.labelsize'] = 18\n",
    "import matplotlib.pyplot as plt\n",
    "import pylab\n",
    "%matplotlib inline\n",
    "pylab.rcParams['figure.figsize'] = 10, 10"
   ]
  },
  {
   "cell_type": "code",
   "execution_count": 33,
   "metadata": {
    "collapsed": true
   },
   "outputs": [],
   "source": [
    "G = nx.gnp_random_graph(1000, 0.003)"
   ]
  },
  {
   "cell_type": "code",
   "execution_count": 74,
   "metadata": {
    "collapsed": false
   },
   "outputs": [
    {
     "data": {
      "image/png": "[encoded data removed]",
      "text/plain": [
       "<matplotlib.figure.Figure at 0x1d80c710>"
      ]
     },
     "metadata": {},
     "output_type": "display_data"
    }
   ],
   "source": [
    "degrees = dict()\n",
    "# for degree in nx.degree(G).values():\n",
    "#     if degree in degrees:\n",
    "#         degrees[degree] += 1\n",
    "#     else:\n",
    "#         degrees[degree] = 1\n",
    "from collections import Counter\n",
    "degrees = Counter(nx.degree(G).values())\n",
    "sorted_degree_values = sorted(degrees.keys())\n",
    "counts = [degrees[d] for d in sorted_degree_values]\n",
    "plt.loglog(sorted_degree_values, counts, ls='None', marker='o', color='r', markersize=8)\n",
    "plt.xlabel(\"degree (log)\", fontsize=18)\n",
    "plt.ylabel(\"number of vertices (log)\", fontsize=18)\n",
    "plt.title(\"Degree distribution\", fontsize=18)\n",
    "plt.show()"
   ]
  },
  {
   "cell_type": "code",
   "execution_count": 46,
   "metadata": {
    "collapsed": false
   },
   "outputs": [
    {
     "name": "stdout",
     "output_type": "stream",
     "text": [
      "55\n",
      "943\n",
      "14\n"
     ]
    }
   ],
   "source": [
    "components = list(nx.connected_component_subgraphs(G))\n",
    "print len(components)\n",
    "giant_component = max(components, key=lambda comp: comp.order())\n",
    "print giant_component.order()\n",
    "print nx.diameter(giant_component)"
   ]
  },
  {
   "cell_type": "code",
   "execution_count": 59,
   "metadata": {
    "collapsed": false
   },
   "outputs": [
    {
     "name": "stdout",
     "output_type": "stream",
     "text": [
      "900\n",
      "68\n",
      "828\n"
     ]
    }
   ],
   "source": [
    "import random\n",
    "H = G.copy()\n",
    "for v in H.nodes():\n",
    "    if random.random() < 0.1:\n",
    "        H.remove_node(v)\n",
    "comps = list(nx.connected_components(H))\n",
    "print H.order()\n",
    "print len(comps)\n",
    "print len(comps[0])"
   ]
  },
  {
   "cell_type": "code",
   "execution_count": 67,
   "metadata": {
    "collapsed": false
   },
   "outputs": [
    {
     "name": "stdout",
     "output_type": "stream",
     "text": [
      "762\n"
     ]
    }
   ],
   "source": [
    "H = G.copy()\n",
    "nodes_sorted_by_degree = sorted(H.nodes(), key=lambda v: H.degree(v), reverse=True)\n",
    "for v in nodes_sorted_by_degree[:100]:\n",
    "    H.remove_node(v)\n",
    "print len(next(nx.connected_components(H)))"
   ]
  },
  {
   "cell_type": "code",
   "execution_count": null,
   "metadata": {
    "collapsed": true
   },
   "outputs": [],
   "source": []
  }
 ],
 "metadata": {
  "kernelspec": {
   "display_name": "Python 2",
   "language": "python",
   "name": "python2"
  },
  "language_info": {
   "codemirror_mode": {
    "name": "ipython",
    "version": 2
   },
   "file_extension": ".py",
   "mimetype": "text/x-python",
   "name": "python",
   "nbconvert_exporter": "python",
   "pygments_lexer": "ipython2",
   "version": "2.7.11"
  }
 },
 "nbformat": 4,
 "nbformat_minor": 0
}
