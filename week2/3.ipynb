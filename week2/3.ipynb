{
 "cells": [
  {
   "cell_type": "code",
   "execution_count": 1,
   "metadata": {
    "collapsed": true
   },
   "outputs": [],
   "source": [
    "import networkx as nx\n",
    "import matplotlib.pyplot as plt\n",
    "import pylab\n",
    "# Рисуем графики не создавая новых окон\n",
    "%matplotlib inline"
   ]
  },
  {
   "cell_type": "code",
   "execution_count": 13,
   "metadata": {
    "collapsed": true
   },
   "outputs": [],
   "source": [
    "import random\n",
    "def generateSimpleBollobasRiordanGraph(n):\n",
    "    G = nx.MultiDiGraph()\n",
    "    G.add_node(0)\n",
    "    G.add_edge(0, 0)\n",
    "    # список всех вершин графа, каждая из них входит в него в количестве, равном её степени\n",
    "    repeated_nodes = [0, 0]\n",
    "    while G.number_of_nodes() < n:\n",
    "        new_node = G.number_of_nodes()\n",
    "        G.add_node(new_node)\n",
    "        # для возможности петли\n",
    "        repeated_nodes.append(new_node)\n",
    "        # выбираем конец ребра пропорционально степени вершины\n",
    "        destination = random.choice(repeated_nodes)\n",
    "        repeated_nodes.append(destination)\n",
    "        G.add_edge(new_node, destination)\n",
    "    return G"
   ]
  },
  {
   "cell_type": "code",
   "execution_count": 14,
   "metadata": {
    "collapsed": true
   },
   "outputs": [],
   "source": [
    "def generateBollobasRiordanGraph(n, m):\n",
    "    G1mn = generateSimpleBollobasRiordanGraph(m * n)\n",
    "    G = nx.MultiDiGraph()\n",
    "    # объединяем вершины в последовательные группы по m: {0,...,m-1}, {m, ..., 2m-1}, ..., {m(n-1), ..., mn - 1}\n",
    "    for u, v in G1mn.edges():\n",
    "        u_new, v_new = u / m, v / m\n",
    "        G.add_edge(u_new, v_new)\n",
    "    return G"
   ]
  },
  {
   "cell_type": "code",
   "execution_count": 18,
   "metadata": {
    "collapsed": false
   },
   "outputs": [],
   "source": [
    "M = 3\n",
    "nodes_counts, fractions = [], []\n",
    "for N in xrange(100, 10100, 100):\n",
    "    p = 0.3\n",
    "    G = generateBollobasRiordanGraph(N, M)\n",
    "    for v in G.nodes():\n",
    "        if random.random() < p:\n",
    "            G.remove_node(v)\n",
    "    LCC_size = len(next(nx.connected_components(nx.MultiGraph(G))))\n",
    "    fractions.append(LCC_size / float(G.number_of_nodes()))\n",
    "    nodes_counts.append(N)"
   ]
  },
  {
   "cell_type": "code",
   "execution_count": 19,
   "metadata": {
    "collapsed": false
   },
   "outputs": [
    {
     "data": {
      "image/png": "[encoded data removed]",
      "text/plain": [
       "<matplotlib.figure.Figure at 0x112cff090>"
      ]
     },
     "metadata": {},
     "output_type": "display_data"
    }
   ],
   "source": [
    "pylab.rcParams['figure.figsize'] = 8, 8\n",
    "plt.plot(nodes_counts, fractions)\n",
    "plt.ylim(0.5, 1)\n",
    "plt.title('m=%d' % M, fontsize=20)\n",
    "plt.ylabel(\"c\", fontsize=20)\n",
    "plt.xlabel(\"N\", fontsize=20)\n",
    "plt.show()"
   ]
  },
  {
   "cell_type": "code",
   "execution_count": 20,
   "metadata": {
    "collapsed": false
   },
   "outputs": [
    {
     "data": {
      "text/plain": [
       "0.9868857275067718"
      ]
     },
     "execution_count": 20,
     "metadata": {},
     "output_type": "execute_result"
    }
   ],
   "source": [
    "sum(fractions)/len(fractions)"
   ]
  }
 ],
 "metadata": {
  "anaconda-cloud": {},
  "kernelspec": {
   "display_name": "Python [Root]",
   "language": "python",
   "name": "Python [Root]"
  },
  "language_info": {
   "codemirror_mode": {
    "name": "ipython",
    "version": 2
   },
   "file_extension": ".py",
   "mimetype": "text/x-python",
   "name": "python",
   "nbconvert_exporter": "python",
   "pygments_lexer": "ipython2",
   "version": "2.7.12"
  }
 },
 "nbformat": 4,
 "nbformat_minor": 0
}
