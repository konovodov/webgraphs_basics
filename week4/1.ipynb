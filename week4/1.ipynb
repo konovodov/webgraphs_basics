{
 "cells": [
  {
   "cell_type": "code",
   "execution_count": 2,
   "metadata": {
    "collapsed": false
   },
   "outputs": [],
   "source": [
    "import networkx as nx\n",
    "import matplotlib.pyplot as plt\n",
    "import pylab\n",
    "# Рисуем графики не создавая новых окон\n",
    "%matplotlib inline\n",
    "import random\n",
    "def generateSimpleBollobasRiordanGraph(n):\n",
    "    G = nx.MultiDiGraph()\n",
    "    G.add_node(0)\n",
    "    G.add_edge(0, 0)\n",
    "    # список всех вершин графа, каждая из них входит в него в количестве, равном её степени\n",
    "    repeated_nodes = [0, 0]\n",
    "    while G.number_of_nodes() < n:\n",
    "        new_node = G.number_of_nodes()\n",
    "        G.add_node(new_node)\n",
    "        # для возможности петли\n",
    "        repeated_nodes.append(new_node)\n",
    "        # выбираем конец ребра пропорционально степени вершины\n",
    "        destination = random.choice(repeated_nodes)\n",
    "        repeated_nodes.append(destination)\n",
    "        G.add_edge(new_node, destination)\n",
    "    return G\n",
    "\n",
    "def generateBollobasRiordanGraph(n, m):\n",
    "    G1mn = generateSimpleBollobasRiordanGraph(m * n)\n",
    "    G = nx.MultiDiGraph()\n",
    "    # объединяем вершины в последовательные группы по m: {0,...,m-1}, {m, ..., 2m-1}, ..., {m(n-1), ..., mn - 1}\n",
    "    for u, v in G1mn.edges():\n",
    "        u_new, v_new = u / m, v / m\n",
    "        G.add_edge(u_new, v_new)\n",
    "    return G"
   ]
  },
  {
   "cell_type": "markdown",
   "metadata": {},
   "source": [
    "#### Задача 1\n",
    "Исследуйте применимость функций networkx.transitivity и networkx.average_clustering. Реализуйте функцию подсчета локального кластерного коэффициента для ориентированного графа без петель и кратных ребер. Сгенерируйте при $n=100, 200,\\ldots, 10000$ последовательность графов Боллобаша-Риордана $\\{G_3^n\\}$ и постройте в двух случаях график локального и глобального кластерного коэффициента:\n",
    "\n",
    "* графы рассматриваются без ориентации, кратных ребер и петель;\n",
    "* графы рассматриваются без кратных ребер и петель, но с ориентацией.\n",
    "\n",
    "Насколько результат подтверждает гипотезу о том, что в таких графах локальный кластерный коэффициент в константу раз больше транзитивности?\n",
    "\n",
    "Сравните результаты функции networkx.approximation.average_clustering и networkx.average_clustering при большом числе вершин в графе."
   ]
  },
  {
   "cell_type": "code",
   "execution_count": 3,
   "metadata": {
    "collapsed": false
   },
   "outputs": [],
   "source": [
    "G = generateBollobasRiordanGraph(10000, 3)"
   ]
  },
  {
   "cell_type": "code",
   "execution_count": 7,
   "metadata": {
    "collapsed": false
   },
   "outputs": [
    {
     "name": "stdout",
     "output_type": "stream",
     "text": [
      "0.0121832685347\n",
      "0.00293307189859\n",
      "0.0085389688077\n",
      "0.0\n",
      "0.009\n",
      "0.0084\n",
      "0.00847\n"
     ]
    }
   ],
   "source": [
    "print nx.transitivity(nx.DiGraph(G))\n",
    "print nx.transitivity(nx.Graph(G))\n",
    "# print nx.transitivity(G)   not defined for multigraphs\n",
    "print nx.average_clustering(nx.Graph(G))\n",
    "# print nx.average_clustering(nx.DiGraph(G))   not defined for directed graphs\n",
    "\n",
    "from networkx.algorithms import approximation\n",
    "print approximation.average_clustering(nx.Graph(G), trials=100)\n",
    "print approximation.average_clustering(nx.Graph(G), trials=1000)\n",
    "print approximation.average_clustering(nx.Graph(G), trials=10000)\n",
    "print approximation.average_clustering(nx.Graph(G), trials=100000)"
   ]
  },
  {
   "cell_type": "code",
   "execution_count": 5,
   "metadata": {
    "collapsed": false
   },
   "outputs": [
    {
     "name": "stdout",
     "output_type": "stream",
     "text": [
      "0.5\n"
     ]
    }
   ],
   "source": [
    "H = nx.DiGraph()\n",
    "H.add_edge(1, 2)\n",
    "H.add_edge(1, 0)\n",
    "H.add_edge(2, 0)\n",
    "# H.add_edge(0, 2)\n",
    "print nx.transitivity(H)"
   ]
  },
  {
   "cell_type": "markdown",
   "metadata": {},
   "source": [
    "Функция networkx.average_clustering не определена для ориентированных графов. Поэтому реализуем ее отдельно. Определение локального кластерного коэффициента вершины в этом случае отличается только нормировкой:\n",
    "$$\n",
    "C_v = \\frac{|\\{(x,y) \\in E: ~ x,y \\in N_v\\}|}{n_v(n_v-1)},\n",
    "$$\n",
    "поскольку максимальное число различных ребер между $n_v$ соседями вершины $v$ равно $n_v(n_v-1).$"
   ]
  },
  {
   "cell_type": "code",
   "execution_count": 9,
   "metadata": {
    "collapsed": true
   },
   "outputs": [],
   "source": [
    "from itertools import permutations\n",
    "def local_clustering_directed(G, v):\n",
    "    number_of_edges = 0\n",
    "    nv = len(G.neighbors(v))\n",
    "    if nv <= 1:\n",
    "        return 1\n",
    "    for (x, y) in permutations(G.neighbors(v), 2):\n",
    "        if x in G.neighbors(y):\n",
    "            number_of_edges += 1\n",
    "    return float(number_of_edges) / nv / (nv - 1)"
   ]
  },
  {
   "cell_type": "code",
   "execution_count": 10,
   "metadata": {
    "collapsed": true
   },
   "outputs": [],
   "source": [
    "def average_local_clustering_directed(G):\n",
    "    res = 0\n",
    "    for v in G.nodes():\n",
    "        res += local_clustering_directed(G, v)\n",
    "    return res / float(G.order())"
   ]
  },
  {
   "cell_type": "code",
   "execution_count": 19,
   "metadata": {
    "collapsed": false
   },
   "outputs": [],
   "source": [
    "di_graph_t = []  # значения транзитивности в случае с ориентацией\n",
    "di_graph_ac = [] # значения среднего лок. к.к. в случае с ориентацией\n",
    "t = []           # значения транзитивности в случае без ориентации\n",
    "ac = []          # значения среднего лок. к.к. в случае без ориентации\n",
    "ns = []          # количества вершин\n",
    "for N in xrange(100, 10000, 100):\n",
    "    G = generateBollobasRiordanGraph(N, 3)\n",
    "    ns.append(N)\n",
    "    t.append(nx.transitivity(nx.Graph(G)))\n",
    "    ac.append(nx.average_clustering(nx.Graph(G)))\n",
    "    di_graph_t.append(nx.transitivity(nx.DiGraph(G)))\n",
    "    di_graph_ac.append(average_local_clustering_directed(nx.DiGraph(G)))\n"
   ]
  },
  {
   "cell_type": "code",
   "execution_count": 21,
   "metadata": {
    "collapsed": false
   },
   "outputs": [
    {
     "data": {
      "image/png": "[encoded data removed]",
      "text/plain": [
       "<matplotlib.figure.Figure at 0x1ab01dd8>"
      ]
     },
     "metadata": {},
     "output_type": "display_data"
    }
   ],
   "source": [
    "# неориентированный случай\n",
    "plt.loglog(ns, t, ls='None',marker='o', color='c')  # транзитивность\n",
    "plt.loglog(ns, ac, ls='None',marker='o', color='r')  # средний локальный кластерный коэффициент\n",
    "plt.show()"
   ]
  },
  {
   "cell_type": "code",
   "execution_count": 22,
   "metadata": {
    "collapsed": false
   },
   "outputs": [
    {
     "data": {
      "image/png": "[encoded data removed]",
      "text/plain": [
       "<matplotlib.figure.Figure at 0x205cc6d8>"
      ]
     },
     "metadata": {},
     "output_type": "display_data"
    }
   ],
   "source": [
    "# ориентированный случай\n",
    "plt.loglog(ns, di_graph_t, ls='None',marker='o', color='c')  # транзитивность\n",
    "plt.loglog(ns, di_graph_ac, ls='None',marker='o', color='r')  # средний локальный кластерный коэффициент\n",
    "\n",
    "plt.show()"
   ]
  },
  {
   "cell_type": "code",
   "execution_count": 12,
   "metadata": {
    "collapsed": false
   },
   "outputs": [
    {
     "name": "stdout",
     "output_type": "stream",
     "text": [
      "1\n",
      "0.5\n",
      "1\n",
      "0.833333333333\n"
     ]
    }
   ],
   "source": [
    "G = nx.DiGraph()\n",
    "G.add_edge(1, 2)\n",
    "G.add_edge(1, 0)\n",
    "G.add_edge(2, 0)\n",
    "# G.add_edge(0, 2)\n",
    "print local_clustering_directed(G, 0)\n",
    "print local_clustering_directed(G, 1)\n",
    "print local_clustering_directed(G, 2)\n",
    "print average_local_clustering_directed(G)"
   ]
  },
  {
   "cell_type": "markdown",
   "metadata": {},
   "source": [
    "<img src=\"image.png\">"
   ]
  }
 ],
 "metadata": {
  "anaconda-cloud": {},
  "kernelspec": {
   "display_name": "Python [Root]",
   "language": "python",
   "name": "Python [Root]"
  },
  "language_info": {
   "codemirror_mode": {
    "name": "ipython",
    "version": 2
   },
   "file_extension": ".py",
   "mimetype": "text/x-python",
   "name": "python",
   "nbconvert_exporter": "python",
   "pygments_lexer": "ipython2",
   "version": "2.7.12"
  }
 },
 "nbformat": 4,
 "nbformat_minor": 0
}
