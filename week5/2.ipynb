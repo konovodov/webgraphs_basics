{
 "cells": [
  {
   "cell_type": "markdown",
   "metadata": {},
   "source": [
    "#### Задача\n",
    "Реализуйте генерацию случайного графа в модели Барабаши--Альберт, конкретизованной следующим образом:\n",
    "\n",
    "В каждый момент времени добавляем одну вершину и $m$ ребер.\n",
    "\n",
    "Начинаем с вершины 0 без ребер, но с весом, равным $m$. \n",
    "\n",
    "Вершина 1 ставит $m$ ссылок на 0. Вес вершины 0 становится $2m$, вес вершины 1 становится $m$.\n",
    "\n",
    "Дальнейшие вершины ставят $m$ ссылок независимо, каждую с вероятностью, пропорциональной весам существующих вершин (равным сумме их входящих степеней и $m$):\n",
    "$$\n",
    "P(n+1\\to i)=\\frac{\\mathrm{indeg}\\,i + m}{\\sum\\limits_{k=0}^n(\\mathrm{indeg}\\,k + m)}=\\frac{\\mathrm{indeg}\\,i + m}{2mn + m}.\n",
    "$$\n",
    "Используя теорему Авраченкова, при фиксированном $n$ постройте оценку для кумулятивной функции распределения пейджранка $P(\\pi_v > x)$. Сгенерируйте граф на $n=1000$ вершинах при $m=5$ и постройте на одном графике данную оценку и соответствующее распределение пейджранка для полученного графа при $c=0.85$."
   ]
  },
  {
   "cell_type": "code",
   "execution_count": 232,
   "metadata": {
    "collapsed": false
   },
   "outputs": [],
   "source": [
    "import networkx as nx\n",
    "import matplotlib.pyplot as plt\n",
    "import pylab\n",
    "# Рисуем графики не создавая новых окон\n",
    "%matplotlib inline"
   ]
  },
  {
   "cell_type": "code",
   "execution_count": 282,
   "metadata": {
    "collapsed": true
   },
   "outputs": [],
   "source": [
    "import random\n",
    "def generateGraph(n, m):\n",
    "    G = nx.MultiDiGraph()\n",
    "    G.add_node(0)\n",
    "    G.add_node(1)\n",
    "    for x in xrange(m):\n",
    "        G.add_edge(1, 0)\n",
    "    repeated_nodes = [0] * (2 * m) + [1] * m\n",
    "    while G.number_of_nodes() <= n:\n",
    "        new_node = G.number_of_nodes()\n",
    "        G.add_node(new_node)\n",
    "        # выбираем конец ребра пропорционально входящей степени вершины + m\n",
    "        dests = []\n",
    "        for x in xrange(m):\n",
    "            destination = random.choice(repeated_nodes)\n",
    "            G.add_edge(new_node, destination)\n",
    "            dests.append(destination)\n",
    "        repeated_nodes.extend(dests)\n",
    "        repeated_nodes.extend([new_node] * m)\n",
    "    return G"
   ]
  },
  {
   "cell_type": "code",
   "execution_count": 288,
   "metadata": {
    "collapsed": false
   },
   "outputs": [],
   "source": [
    "N = 1000\n",
    "m = 5\n",
    "G = generateGraph(N, m)\n",
    "# петля (0, 0) для того, чтобы не учитывать вершины нулевой степени\n",
    "G.add_edge(0, 0)"
   ]
  },
  {
   "cell_type": "code",
   "execution_count": 289,
   "metadata": {
    "collapsed": false
   },
   "outputs": [],
   "source": [
    "c = 0.85\n",
    "P = nx.pagerank_scipy(G, c)"
   ]
  },
  {
   "cell_type": "code",
   "execution_count": 290,
   "metadata": {
    "collapsed": false
   },
   "outputs": [],
   "source": [
    "pagerank_distr = []\n",
    "xs = []\n",
    "for x in sorted(P.values()):\n",
    "    xs.append(x)\n",
    "    pagerank_distr.append(len([v for v in G.nodes() if P[v] >= x]) / float(N))"
   ]
  },
  {
   "cell_type": "markdown",
   "metadata": {},
   "source": [
    "Согласно теореме Авраченкова, при $ i > 0 $ среднее значение пейджранка вершины $i$:\n",
    "$$\n",
    "{\\bf E}\\pi_i(n) \n",
    "\\approx \\frac{1-c}{1+n}\\left(\\frac{1}{1+c} + \\frac{c}{1+c}\\left(i+\\frac{1}{2}\\right)^{-\\frac{1+c}{2}} \\left(n+\\frac{1}{2}\\right)^{\\frac{1+c}{2}}\\right).\n",
    "$$\n",
    "\n",
    "Тогда при фиксированном $n$: ${\\bf E}\\pi_i=f(i)$, где $f(i)$ - убывающая функция. Поэтому,\n",
    "\\begin{equation*}\n",
    "\\begin{split}\n",
    "\\textbf{P}(\\pi_i<x)&=\\textbf{P}(i>f^{-1}(x))\\approx\\textbf{P}\\left(i>\\left(\\left(\\frac{1+n}{1-c}x-\\frac{1}{1+c}\\right)\\frac{1+c}{c}\\left(n+\\frac{1}{2}\\right)^{-\\frac{1+c}{2}}\\right)^{\\frac{-2}{1+c}}-\\frac12\\right)=\\\\\n",
    "&=1-\\frac{1}{n}\\cdot\\left(\\left(\\left(\\frac{1+n}{1-c}x-\\frac{1}{1+c}\\right)\\frac{1+c}{c}\\left(n+\\frac{1}{2}\\right)^{-\\frac{1+c}{2}}\\right)^{\\frac{-2}{1+c}}-\\frac12\\right)=\\\\\n",
    "&=1+\\frac{1}{2n}-\\left(1+\\frac{1}{2n}\\right)c^{\\frac{2}{c+1}}\\left(\\frac{1+c}{1-c}(n+1)x-1\\right)^{\\frac{-2}{1+c}}.\n",
    "\\end{split}\n",
    "\\end{equation*}\n",
    "\n",
    "При этом $\\textbf{P}(\\pi_i>=x)=1-\\textbf{P}(\\pi_i<x)$. Построим по данной формуле оценку для вероятностей соответствующих значений пейджранка вершин:"
   ]
  },
  {
   "cell_type": "code",
   "execution_count": 297,
   "metadata": {
    "collapsed": false
   },
   "outputs": [],
   "source": [
    "theoretical_est = []\n",
    "xs2 = []\n",
    "for x in np.arange(min(P.values()), max(P.values()), 0.001):\n",
    "    val = (1 + 1.0 / (2 * N)) * c ** (2. / (c + 1))\n",
    "    val *= ((N + 1) * (1 + c) * x / (1 - c) - 1) ** (-2. / (c + 1))\n",
    "    val = 1 + 1.0 / (2 * N) - val\n",
    "    xs2.append(x)\n",
    "    theoretical_est.append(1 - val)"
   ]
  },
  {
   "cell_type": "code",
   "execution_count": 298,
   "metadata": {
    "collapsed": false
   },
   "outputs": [
    {
     "data": {
      "image/png": "[encoded data removed]",
      "text/plain": [
       "<matplotlib.figure.Figure at 0x1ac28d30>"
      ]
     },
     "metadata": {},
     "output_type": "display_data"
    }
   ],
   "source": [
    "import matplotlib.pyplot as plt\n",
    "\n",
    "pylab.rcParams['figure.figsize'] = 10, 10\n",
    "plt.loglog(xs, pagerank_distr, c='r', marker='+', ls='None', markersize=8)\n",
    "plt.loglog(xs2, theoretical_est)\n",
    "plt.show()"
   ]
  }
 ],
 "metadata": {
  "kernelspec": {
   "display_name": "Python 2",
   "language": "python",
   "name": "python2"
  },
  "language_info": {
   "codemirror_mode": {
    "name": "ipython",
    "version": 2
   },
   "file_extension": ".py",
   "mimetype": "text/x-python",
   "name": "python",
   "nbconvert_exporter": "python",
   "pygments_lexer": "ipython2",
   "version": "2.7.11"
  }
 },
 "nbformat": 4,
 "nbformat_minor": 0
}
