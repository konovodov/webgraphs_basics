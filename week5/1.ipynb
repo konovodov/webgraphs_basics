{
 "cells": [
  {
   "cell_type": "markdown",
   "metadata": {},
   "source": [
    "#### Задача\n",
    "В файле links.txt находится список ссылок между страницами сайта ru.wikipedia.org, посвященных городам России. Каждая строка задает одну ссылку парой целочисленных идентификаторов, разделенных символом табуляции. Соответствие между идентификаторами и адресами страниц находятся в файле pages.txt. Найдите топ-10 страниц по каждой из центральностей (betweenness, closeness, eigenvector, pagerank) в этом фрагменте веб-графа."
   ]
  },
  {
   "cell_type": "code",
   "execution_count": 2,
   "metadata": {
    "collapsed": true
   },
   "outputs": [],
   "source": [
    "import networkx as nx\n",
    "\n",
    "def print_top_10(centrality_dict, page2link):\n",
    "    sorted_top = sorted(centrality_dict.items(),\n",
    "                        key=lambda x: x[1],\n",
    "                        reverse=True)[:10]\n",
    "    for vertex, value in sorted_top:\n",
    "        print page2link[vertex], value"
   ]
  },
  {
   "cell_type": "code",
   "execution_count": 3,
   "metadata": {
    "collapsed": true
   },
   "outputs": [],
   "source": [
    "with open(\"links.txt\") as f:\n",
    "    G = nx.DiGraph()\n",
    "    for line in f:\n",
    "        u, v = line.strip().split('\\t')\n",
    "        G.add_edge(u, v)\n",
    "\n",
    "page2link = dict()\n",
    "with open(\"pages.txt\") as f:\n",
    "    for line in f:\n",
    "        page, link = line.strip().split('\\t')\n",
    "        page2link[page] = link"
   ]
  },
  {
   "cell_type": "code",
   "execution_count": 4,
   "metadata": {
    "collapsed": false
   },
   "outputs": [
    {
     "name": "stdout",
     "output_type": "stream",
     "text": [
      "PageRank:\n",
      "http://ru.wikipedia.org/wiki/Москва 0.0385447458087\n",
      "http://ru.wikipedia.org/wiki/Санкт-Петербург 0.0303727401049\n",
      "http://ru.wikipedia.org/wiki/Екатеринбург 0.0126568906911\n",
      "http://ru.wikipedia.org/wiki/Казань 0.0120501146109\n",
      "http://ru.wikipedia.org/wiki/Архангельск 0.00998461112708\n",
      "http://ru.wikipedia.org/wiki/Самара 0.0099600075345\n",
      "http://ru.wikipedia.org/wiki/Великий_Новгород 0.00923344059028\n",
      "http://ru.wikipedia.org/wiki/Нижний_Новгород 0.00892318943952\n",
      "http://ru.wikipedia.org/wiki/Волгоград 0.00828594344912\n",
      "http://ru.wikipedia.org/wiki/Челябинск 0.00823630271556\n"
     ]
    }
   ],
   "source": [
    "P = nx.pagerank(G, alpha=0.85, max_iter=1000)\n",
    "print \"PageRank:\"\n",
    "print_top_10(P, page2link)"
   ]
  },
  {
   "cell_type": "code",
   "execution_count": 5,
   "metadata": {
    "collapsed": false
   },
   "outputs": [
    {
     "name": "stdout",
     "output_type": "stream",
     "text": [
      "Betweenness:\n",
      "http://ru.wikipedia.org/wiki/Москва 0.157358489029\n",
      "http://ru.wikipedia.org/wiki/Волгоград 0.0803208286466\n",
      "http://ru.wikipedia.org/wiki/Санкт-Петербург 0.0768610397655\n",
      "http://ru.wikipedia.org/wiki/Казань 0.0394242448136\n",
      "http://ru.wikipedia.org/wiki/Екатеринбург 0.0364179778547\n",
      "http://ru.wikipedia.org/wiki/Воронеж 0.0306215700538\n",
      "http://ru.wikipedia.org/wiki/Пермь 0.029735896277\n",
      "http://ru.wikipedia.org/wiki/Красноярск 0.0294115806862\n",
      "http://ru.wikipedia.org/wiki/Калининград 0.0292686981507\n",
      "http://ru.wikipedia.org/wiki/Великий_Новгород 0.0261107873622\n"
     ]
    }
   ],
   "source": [
    "bc = nx.betweenness_centrality(G)\n",
    "print \"Betweenness:\"\n",
    "print_top_10(bc, page2link)"
   ]
  },
  {
   "cell_type": "code",
   "execution_count": 6,
   "metadata": {
    "collapsed": false
   },
   "outputs": [
    {
     "name": "stdout",
     "output_type": "stream",
     "text": [
      "Closeness:\n",
      "http://ru.wikipedia.org/wiki/Королёв_(город) 0.22785130719\n",
      "http://ru.wikipedia.org/wiki/Волгоград 0.22750990577\n",
      "http://ru.wikipedia.org/wiki/Ногинск 0.220377519755\n",
      "http://ru.wikipedia.org/wiki/Рязань 0.217848079069\n",
      "http://ru.wikipedia.org/wiki/Казань 0.214766776678\n",
      "http://ru.wikipedia.org/wiki/Воронеж 0.212899763196\n",
      "http://ru.wikipedia.org/wiki/Волоколамск 0.211535401381\n",
      "http://ru.wikipedia.org/wiki/Арзамас 0.210947639776\n",
      "http://ru.wikipedia.org/wiki/Магнитогорск 0.210830479188\n",
      "http://ru.wikipedia.org/wiki/Ульяновск 0.209608104792\n"
     ]
    }
   ],
   "source": [
    "cc = nx.closeness_centrality(G)\n",
    "print \"Closeness:\"\n",
    "print_top_10(cc, page2link)"
   ]
  },
  {
   "cell_type": "code",
   "execution_count": 7,
   "metadata": {
    "collapsed": false
   },
   "outputs": [
    {
     "name": "stdout",
     "output_type": "stream",
     "text": [
      "Eigenvector:\n",
      "http://ru.wikipedia.org/wiki/Москва 0.411699226627\n",
      "http://ru.wikipedia.org/wiki/Санкт-Петербург 0.314437297929\n",
      "http://ru.wikipedia.org/wiki/Казань 0.237369105166\n",
      "http://ru.wikipedia.org/wiki/Самара 0.208711306459\n",
      "http://ru.wikipedia.org/wiki/Екатеринбург 0.187242218426\n",
      "http://ru.wikipedia.org/wiki/Уфа 0.181819487793\n",
      "http://ru.wikipedia.org/wiki/Нижний_Новгород 0.169886852728\n",
      "http://ru.wikipedia.org/wiki/Пермь 0.169221736824\n",
      "http://ru.wikipedia.org/wiki/Саратов 0.161103043711\n",
      "http://ru.wikipedia.org/wiki/Волгоград 0.161047623331\n"
     ]
    }
   ],
   "source": [
    "ec = nx.eigenvector_centrality(G)\n",
    "print \"Eigenvector:\"\n",
    "print_top_10(ec, page2link)"
   ]
  }
 ],
 "metadata": {
  "kernelspec": {
   "display_name": "Python 2",
   "language": "python",
   "name": "python2"
  },
  "language_info": {
   "codemirror_mode": {
    "name": "ipython",
    "version": 2
   },
   "file_extension": ".py",
   "mimetype": "text/x-python",
   "name": "python",
   "nbconvert_exporter": "python",
   "pygments_lexer": "ipython2",
   "version": "2.7.11"
  }
 },
 "nbformat": 4,
 "nbformat_minor": 0
}
