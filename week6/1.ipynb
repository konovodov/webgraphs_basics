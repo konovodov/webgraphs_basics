{
 "cells": [
  {
   "cell_type": "markdown",
   "metadata": {},
   "source": [
    "#### Задача 1\n",
    "В файле graph.txt находится граф, построенный в соответствии с моделью Боллобаша-Боргса-Риордана-Чайес со следующими значениями параметров модели: $\\alpha = \\beta = 0.5$, $\\gamma = \\delta_{out} = 0$. Значение $\\delta_{in}$ неизвестно.\n",
    "Порядок ребер и номера вершин в файле соответствует порядку, в котором они реально появлялись.\n",
    "Первое число в строчке - это начало ребра, второе - конец ребра. Начальный граф - треугольник \n",
    "\n",
    "[(0, 1), (1, 2), (2, 0)].\n",
    "\n",
    "Постройте зависимость вероятности данного графа при данных значениях параметров от $\\delta_{in}$ и найдите оптимальное значение, при котором появление такого графа наиболее правдоподобно."
   ]
  },
  {
   "cell_type": "markdown",
   "metadata": {},
   "source": [
    "#### Решение\n",
    "Рассмотрим все новые ребра графа в порядке их появления и найдем вероятность появления каждого ребра в соответствующий момент времени. Согласно определению модели, новая вершина добавляется с вероятностью $\\alpha = 0.5,$ и не добавляется (то есть ребро проводится между существующими) с вероятностью $\\beta=0.5.$ Так как $\\gamma = \\delta_{out}=0,$ то при получении графа $G(t + 1)$\n",
    "из $n_t$-вершинного графа $G(t)$ вероятность добавить новую вершину $u$ и исходящее из нее в вершину $v$ ребро есть\n",
    "$$\n",
    "\\frac{1}{2}\\cdot\\frac{\\mathrm{indeg}\\,v + \\delta_{in}}{t+\\delta_{in}n_t},\n",
    "$$\n",
    "а вероятность провести ребро между существующими вершинами $u$ и $v$ есть\n",
    "\n",
    "$$\n",
    "\\frac{1}{2}\\cdot\\frac{\\mathrm{outdeg}u}{t}\\cdot\\frac{\\mathrm{indeg}\\,v + \\delta_{ in} }{t+\\delta_{in}n_t}.\n",
    "$$\n",
    "\n",
    "\n",
    "Вероятность конкретного графа $G(n)$ равна $\\prod\\limits_ip_i,$ где $p_i$ определяется по этим формулам в зависимости от того, новая ли вершина $u_i$. Имея конкретный граф, нам необходимо максимизировать эту вероятность (правдоподобие). Для того, чтобы не работать с очень маленькими числами, будем вместо задачи $\\prod\\limits_ip_i \\to \\max\\limits_{\\delta_{in}}$ решать эквивалентную задачу $\\sum\\limits_i\\ln p_i \\to \\max\\limits_{\\delta_{in}}.$\n",
    "\n",
    "Заметим, что слагаемые $\\ln \\frac{1}{2}$, $\\ln \\frac{\\mathrm{outdeg}u}{t}$ не зависят от $\\delta_{in},$ поэтому задача сводится к максимизации выражения \n",
    "$$\n",
    "\\sum\\limits_i\\ln\\frac{\\mathrm{indeg}\\,v + \\delta_{in}}{t+\\delta_{in}n_t}=\\sum\\limits_i\\left(\\ln(\\mathrm{indeg}\\,v + \\delta_{in}) - \\ln(t+\\delta_{in}n_t)\\right).\n",
    "$$"
   ]
  },
  {
   "cell_type": "code",
   "execution_count": 1,
   "metadata": {
    "collapsed": false
   },
   "outputs": [],
   "source": [
    "import networkx as nx\n",
    "G = nx.MultiDiGraph()\n",
    "G.add_edges_from([(0, 1), (1, 2), (2, 0)])\n",
    "\n",
    "log_params = []\n",
    "t = 3\n",
    "for line in open(\"graph.txt\"):\n",
    "    u, v = line.strip().split('\\t')\n",
    "    u, v = int(u), int(v)\n",
    "    # в log_params запомним indeg v, t, n_t\n",
    "    log_params.append((G.in_degree(v), t, G.order()))\n",
    "    t += 1\n",
    "    G.add_edge(u, v)\n",
    "\n"
   ]
  },
  {
   "cell_type": "code",
   "execution_count": 2,
   "metadata": {
    "collapsed": false
   },
   "outputs": [],
   "source": [
    "from numpy import log, arange\n",
    "def f(log_params, delta_in):\n",
    "    res = 0\n",
    "    for indeg, t, nt in log_params:\n",
    "        res += log(indeg + delta_in) - log(t + delta_in * nt)\n",
    "    return res\n",
    "\n",
    "delta_in_values = []\n",
    "f_values = []\n",
    "for delta_in in arange(0.001, 1, 0.001):\n",
    "    f_values.append(f(log_params, delta_in))\n",
    "    delta_in_values.append(delta_in)"
   ]
  },
  {
   "cell_type": "code",
   "execution_count": 5,
   "metadata": {
    "collapsed": false
   },
   "outputs": [
    {
     "data": {
      "image/png": "[encoded data removed]",
      "text/plain": [
       "<matplotlib.figure.Figure at 0x387ae80>"
      ]
     },
     "metadata": {},
     "output_type": "display_data"
    }
   ],
   "source": [
    "import matplotlib.pyplot as plt\n",
    "%matplotlib inline\n",
    "plt.plot(delta_in_values[20:],f_values[20:])\n",
    "plt.show()"
   ]
  },
  {
   "cell_type": "code",
   "execution_count": 6,
   "metadata": {
    "collapsed": false
   },
   "outputs": [
    {
     "data": {
      "text/plain": [
       "-134761.03283254636"
      ]
     },
     "execution_count": 6,
     "metadata": {},
     "output_type": "execute_result"
    }
   ],
   "source": [
    "max(f_values)"
   ]
  },
  {
   "cell_type": "code",
   "execution_count": 7,
   "metadata": {
    "collapsed": false
   },
   "outputs": [
    {
     "data": {
      "text/plain": [
       "(0.59299999999999997, -134761.03283254636)"
      ]
     },
     "execution_count": 7,
     "metadata": {},
     "output_type": "execute_result"
    }
   ],
   "source": [
    "max(zip(delta_in_values,f_values), key=lambda x: x[1])"
   ]
  }
 ],
 "metadata": {
  "kernelspec": {
   "display_name": "Python 2",
   "language": "python",
   "name": "python2"
  },
  "language_info": {
   "codemirror_mode": {
    "name": "ipython",
    "version": 2
   },
   "file_extension": ".py",
   "mimetype": "text/x-python",
   "name": "python",
   "nbconvert_exporter": "python",
   "pygments_lexer": "ipython2",
   "version": "2.7.11"
  }
 },
 "nbformat": 4,
 "nbformat_minor": 0
}
